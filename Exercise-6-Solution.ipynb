{
 "cells": [
  {
   "cell_type": "markdown",
   "metadata": {},
   "source": [
    "# Solution for Exercise 6: Molecular Dynamics\n",
    "\n",
    "----\n",
    "\n",
    "We first have to import numpy and matplotlib:"
   ]
  },
  {
   "cell_type": "code",
   "execution_count": 1,
   "metadata": {
    "colab": {
     "base_uri": "https://localhost:8080/",
     "height": 524
    },
    "id": "0lh9Dlzh9URj",
    "outputId": "617d9b41-7f09-4f59-ddd5-2cca98e6f828"
   },
   "outputs": [],
   "source": [
    "import numpy as np\n",
    "from matplotlib import pyplot as plt "
   ]
  },
  {
   "cell_type": "markdown",
   "metadata": {},
   "source": [
    "Next, we need to define the parameters of the simulation:"
   ]
  },
  {
   "cell_type": "code",
   "execution_count": 2,
   "metadata": {
    "colab": {
     "base_uri": "https://localhost:8080/",
     "height": 524
    },
    "id": "0lh9Dlzh9URj",
    "outputId": "617d9b41-7f09-4f59-ddd5-2cca98e6f828"
   },
   "outputs": [],
   "source": [
    "N = 100    # Number of integration steps\n",
    "k = 0.03   # force constant\n",
    "m = 1.0    # mass of the particle\n",
    "dt = 1.0   # integration time step"
   ]
  },
  {
   "cell_type": "markdown",
   "metadata": {},
   "source": [
    "----\n",
    "## 1) Euler algorithm:\n",
    "\n",
    "Initialize the arrays to store the positions $x$ and velocities $v$ of all timesteps:"
   ]
  },
  {
   "cell_type": "code",
   "execution_count": 3,
   "metadata": {
    "colab": {
     "base_uri": "https://localhost:8080/",
     "height": 524
    },
    "id": "0lh9Dlzh9URj",
    "outputId": "617d9b41-7f09-4f59-ddd5-2cca98e6f828"
   },
   "outputs": [],
   "source": [
    "x= np.zeros(N)   \n",
    "v= np.zeros(N)"
   ]
  },
  {
   "cell_type": "markdown",
   "metadata": {},
   "source": [
    "Now, set the initial conditions:"
   ]
  },
  {
   "cell_type": "code",
   "execution_count": 4,
   "metadata": {
    "colab": {
     "base_uri": "https://localhost:8080/",
     "height": 524
    },
    "id": "0lh9Dlzh9URj",
    "outputId": "617d9b41-7f09-4f59-ddd5-2cca98e6f828"
   },
   "outputs": [],
   "source": [
    "x[0]= -1\n",
    "v[0]= 0.2"
   ]
  },
  {
   "cell_type": "markdown",
   "metadata": {},
   "source": [
    "We calculate the individual timesteps in a *for*-loop:"
   ]
  },
  {
   "cell_type": "code",
   "execution_count": 5,
   "metadata": {
    "colab": {
     "base_uri": "https://localhost:8080/",
     "height": 524
    },
    "id": "0lh9Dlzh9URj",
    "outputId": "617d9b41-7f09-4f59-ddd5-2cca98e6f828"
   },
   "outputs": [],
   "source": [
    "for i in range(N-1):\n",
    "    \n",
    "  # new position:\n",
    "    x[i+1]= x[i] + dt * v[i]\n",
    "    \n",
    "  # new force and velocity \n",
    "    F = -k * x[i]\n",
    "    v[i+1]= v[i] + dt * F/m"
   ]
  },
  {
   "cell_type": "markdown",
   "metadata": {},
   "source": [
    "----\n",
    "## 2) Verlet algorithm"
   ]
  },
  {
   "cell_type": "markdown",
   "metadata": {},
   "source": [
    "Define variables for Verlet positions $vx$ and velocities $vv$ as before:"
   ]
  },
  {
   "cell_type": "code",
   "execution_count": 6,
   "metadata": {
    "colab": {
     "base_uri": "https://localhost:8080/",
     "height": 524
    },
    "id": "0lh9Dlzh9URj",
    "outputId": "617d9b41-7f09-4f59-ddd5-2cca98e6f828"
   },
   "outputs": [],
   "source": [
    "vx= np.zeros(N)\n",
    "vv= np.zeros(N)"
   ]
  },
  {
   "cell_type": "markdown",
   "metadata": {},
   "source": [
    "Set initial conditions as before:"
   ]
  },
  {
   "cell_type": "code",
   "execution_count": 7,
   "metadata": {
    "colab": {
     "base_uri": "https://localhost:8080/",
     "height": 524
    },
    "id": "0lh9Dlzh9URj",
    "outputId": "617d9b41-7f09-4f59-ddd5-2cca98e6f828"
   },
   "outputs": [],
   "source": [
    "vx[0] = -1\n",
    "vv[0] = 0.2"
   ]
  },
  {
   "cell_type": "markdown",
   "metadata": {},
   "source": [
    "The first step is special and is calculated separately:"
   ]
  },
  {
   "cell_type": "code",
   "execution_count": 8,
   "metadata": {
    "colab": {
     "base_uri": "https://localhost:8080/",
     "height": 524
    },
    "id": "0lh9Dlzh9URj",
    "outputId": "617d9b41-7f09-4f59-ddd5-2cca98e6f828"
   },
   "outputs": [],
   "source": [
    "F= -k * vx[0];\n",
    "vx[1] = vx[0] + dt * vv[0] + F / (2 * m) * dt**2"
   ]
  },
  {
   "cell_type": "markdown",
   "metadata": {},
   "source": [
    "All remaining timesteps can be calculated again in a *for*-loop:"
   ]
  },
  {
   "cell_type": "code",
   "execution_count": 9,
   "metadata": {
    "colab": {
     "base_uri": "https://localhost:8080/",
     "height": 524
    },
    "id": "0lh9Dlzh9URj",
    "outputId": "617d9b41-7f09-4f59-ddd5-2cca98e6f828"
   },
   "outputs": [],
   "source": [
    "for i in range(1,N-1):\n",
    "    # force:\n",
    "    F= -k * vx[i]\n",
    "\n",
    "    # position:\n",
    "    vx[i+1]= 2 * vx[i] - vx[i-1] + F/m * dt**2\n",
    "\n",
    "    # velocity:\n",
    "    vv[i]= (vx[i+1] - vx[i-1]) / ( 2 * dt )"
   ]
  },
  {
   "cell_type": "markdown",
   "metadata": {},
   "source": [
    "----\n",
    "## 3) Analytical solution\n",
    "\n",
    "$ x(t)= A*cos(wt) + B*sin(wt) $\n",
    "\n",
    "Define empty array again for positions:"
   ]
  },
  {
   "cell_type": "code",
   "execution_count": 10,
   "metadata": {},
   "outputs": [],
   "source": [
    "ax = np.zeros(N)"
   ]
  },
  {
   "cell_type": "markdown",
   "metadata": {},
   "source": [
    "Set amplitudes and frequency from initial conditions:"
   ]
  },
  {
   "cell_type": "code",
   "execution_count": 11,
   "metadata": {
    "colab": {
     "base_uri": "https://localhost:8080/",
     "height": 524
    },
    "id": "0lh9Dlzh9URj",
    "outputId": "617d9b41-7f09-4f59-ddd5-2cca98e6f828"
   },
   "outputs": [],
   "source": [
    "w = np.sqrt(k/m)\n",
    "A = x[0]\n",
    "B = v[0] / w"
   ]
  },
  {
   "cell_type": "markdown",
   "metadata": {},
   "source": [
    "Calculate analytical solution:"
   ]
  },
  {
   "cell_type": "code",
   "execution_count": 12,
   "metadata": {
    "colab": {
     "base_uri": "https://localhost:8080/",
     "height": 524
    },
    "id": "0lh9Dlzh9URj",
    "outputId": "617d9b41-7f09-4f59-ddd5-2cca98e6f828"
   },
   "outputs": [],
   "source": [
    "for i in range(N):\n",
    "    ax[i]= A * np.cos(w * dt * i) + B * np.sin(w * dt * i)"
   ]
  },
  {
   "cell_type": "markdown",
   "metadata": {},
   "source": [
    "----\n",
    "## 4) Plot and compare the solutions\n",
    "\n",
    "For this, we first need an array for the timepoints $t$ to plot against:"
   ]
  },
  {
   "cell_type": "code",
   "execution_count": 13,
   "metadata": {
    "colab": {
     "base_uri": "https://localhost:8080/",
     "height": 524
    },
    "id": "0lh9Dlzh9URj",
    "outputId": "617d9b41-7f09-4f59-ddd5-2cca98e6f828"
   },
   "outputs": [],
   "source": [
    "t = np.arange(N) * dt"
   ]
  },
  {
   "cell_type": "markdown",
   "metadata": {},
   "source": [
    "Use matplotlib to plot all three curves in one axis:"
   ]
  },
  {
   "cell_type": "code",
   "execution_count": 14,
   "metadata": {
    "colab": {
     "base_uri": "https://localhost:8080/",
     "height": 524
    },
    "id": "0lh9Dlzh9URj",
    "outputId": "617d9b41-7f09-4f59-ddd5-2cca98e6f828"
   },
   "outputs": [
    {
     "data": {
      "image/png": "[encoded data removed]",
      "text/plain": [
       "<Figure size 432x288 with 1 Axes>"
      ]
     },
     "metadata": {
      "needs_background": "light"
     },
     "output_type": "display_data"
    }
   ],
   "source": [
    "plt.plot(t, x, '.')\n",
    "plt.plot(t, vx, 'x')\n",
    "plt.plot(t, ax,'-')\n",
    "plt.legend(['Euler', 'Verlet', 'Analytical'])\n",
    "plt.show()"
   ]
  }
 ],
 "metadata": {
  "colab": {
   "provenance": []
  },
  "kernelspec": {
   "display_name": "Python 3",
   "language": "python",
   "name": "python3"
  },
  "language_info": {
   "codemirror_mode": {
    "name": "ipython",
    "version": 3
   },
   "file_extension": ".py",
   "mimetype": "text/x-python",
   "name": "python",
   "nbconvert_exporter": "python",
   "pygments_lexer": "ipython3",
   "version": "3.8.8"
  }
 },
 "nbformat": 4,
 "nbformat_minor": 1
}
